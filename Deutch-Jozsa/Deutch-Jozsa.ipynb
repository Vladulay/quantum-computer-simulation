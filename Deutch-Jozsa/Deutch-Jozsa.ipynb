{
 "cells": [
  {
   "cell_type": "markdown",
   "metadata": {},
   "source": [
    "# The Deutsch-Jozsa algorithm\n",
    "\n",
    "Implement the $U_f$ gate for a general black box function $f: \\{0,1\\}^n \\rightarrow \\{0,1\\}$. We don't want to simulate the auxiliary qubit explicitly, so the action of the $U_f$ gate is an added phase $(-1)^{f(x)}$ on each basis state x. Let's be super clear on what we mean by this: The computational basis consists of $2^n$ states: $\\{|00..0\\rangle, |00..01\\rangle.., |11..1\\rangle  \\}$. The bitstring $x$ that enters into the black box function is the binary array of length $n$ that describes the state of each qubit for a given basis state. We can also enumerate  the basis states with the integer numbers $x$ running from $0$ to $2^n-1$. Now the bitstring $x$ is simply the list of binary digits of the integer number $x$. This identification of the \"index\" of the basis state with the corresponding \"state\" of the qubits are also be crucial for the quantum Fourier transform.\n",
    "\n",
    "The function `indToState()` provided below will be very helpful for building the $U_f$ gate. Make sure you understand what it does."
   ]
  },
  {
   "cell_type": "markdown",
   "metadata": {},
   "source": [
    "Here are some useful modules you might need to solve this problem. "
   ]
  },
  {
   "cell_type": "code",
   "execution_count": 57,
   "metadata": {},
   "outputs": [],
   "source": [
    "# load some useful modules\n",
    "\n",
    "# standard numerics and linear algebra libraries\n",
    "import numpy as np  \n",
    "import numpy.linalg as LA\n",
    "import scipy.linalg as sciLA\n",
    "import gate_operations as go\n",
    "from functools import reduce\n",
    "\n",
    "# for making plots\n",
    "import matplotlib.pyplot as plt\n",
    "from mpl_toolkits.mplot3d import Axes3D\n",
    "\n",
    "# measure runtimes\n",
    "import time as time \n",
    "\n",
    "# sparse matrix functions\n",
    "import scipy.sparse as sparse\n",
    "\n",
    "# The black box function. Is it constant or balanced??\n",
    "from black_box import black_box\n",
    "\n",
    "%matplotlib inline"
   ]
  },
  {
   "cell_type": "code",
   "execution_count": 2,
   "metadata": {},
   "outputs": [],
   "source": [
    "# some helper functions\n",
    "def indToState(n, k):\n",
    "    num = bin(k)[2:].zfill(n)\n",
    "    return np.array([int(x) for x in str(num)])\n",
    "\n",
    "# not necessarily needed:\n",
    "def stateToInd(state):\n",
    "    return int(\"\".join(str(x) for x in state),2)"
   ]
  },
  {
   "cell_type": "markdown",
   "metadata": {},
   "source": [
    "Now implement the Deutsch-Jozsa algorithm and use it to detemine for which $n$ the black box function provided along with this problem set is constant and for which it is balanced!\n",
    "\n",
    "Check the result \"classically\". \n",
    "\n",
    "Don't look at the source code of the black box function! This will make the wave function of the universe collapse ;-)"
   ]
  },
  {
   "cell_type": "markdown",
   "metadata": {},
   "source": [
    "### Solution"
   ]
  },
  {
   "cell_type": "code",
   "execution_count": null,
   "metadata": {},
   "outputs": [
    {
     "ename": "ValueError",
     "evalue": "matmul: Input operand 1 has a mismatch in its core dimension 0, with gufunc signature (n?,k),(k,m?)->(n?,m?) (size 16 is different from 4)",
     "output_type": "error",
     "traceback": [
      "\u001b[1;31m---------------------------------------------------------------------------\u001b[0m",
      "\u001b[1;31mValueError\u001b[0m                                Traceback (most recent call last)",
      "Cell \u001b[1;32mIn[56], line 24\u001b[0m\n\u001b[0;32m     21\u001b[0m state \u001b[38;5;241m=\u001b[39m reduce(go\u001b[38;5;241m.\u001b[39mapply_instruction, instructions, state)\n\u001b[0;32m     23\u001b[0m \u001b[38;5;66;03m# measurement\u001b[39;00m\n\u001b[1;32m---> 24\u001b[0m measurements \u001b[38;5;241m=\u001b[39m \u001b[43mgo\u001b[49m\u001b[38;5;241;43m.\u001b[39;49m\u001b[43mmeasure_computational\u001b[49m\u001b[43m(\u001b[49m\u001b[43mstate\u001b[49m\u001b[43m,\u001b[49m\u001b[38;5;241;43m2\u001b[39;49m\u001b[43m,\u001b[49m\u001b[38;5;241;43m1000\u001b[39;49m\u001b[43m,\u001b[49m\u001b[43m \u001b[49m\u001b[38;5;28;43;01mFalse\u001b[39;49;00m\u001b[43m)\u001b[49m\n\u001b[0;32m     25\u001b[0m \u001b[38;5;28mprint\u001b[39m(measurements)\n\u001b[0;32m     27\u001b[0m \u001b[38;5;28mprint\u001b[39m(state)\n",
      "File \u001b[1;32mf:\\Godot\\Projects\\quantum-computer-simulation\\Deutch-Jozsa\\gate_operations.py:1165\u001b[0m, in \u001b[0;36mmeasure_computational\u001b[1;34m(state, qubit_amount, num_measurements, return_frequencies)\u001b[0m\n\u001b[0;32m   1162\u001b[0m \u001b[38;5;66;03m# Compute probabilities\u001b[39;00m\n\u001b[0;32m   1163\u001b[0m \u001b[38;5;66;03m# pure states\u001b[39;00m\n\u001b[0;32m   1164\u001b[0m \u001b[38;5;28;01mif\u001b[39;00m \u001b[38;5;28mlen\u001b[39m(state\u001b[38;5;241m.\u001b[39mshape) \u001b[38;5;241m==\u001b[39m \u001b[38;5;241m1\u001b[39m \u001b[38;5;129;01mor\u001b[39;00m \u001b[38;5;241m1\u001b[39m \u001b[38;5;129;01min\u001b[39;00m state\u001b[38;5;241m.\u001b[39mshape:\n\u001b[1;32m-> 1165\u001b[0m     probabilities \u001b[38;5;241m=\u001b[39m [np\u001b[38;5;241m.\u001b[39mreal(np\u001b[38;5;241m.\u001b[39mvdot(state, \u001b[43mP\u001b[49m\u001b[43m \u001b[49m\u001b[38;5;241;43m@\u001b[39;49m\u001b[43m \u001b[49m\u001b[43mstate\u001b[49m)) \u001b[38;5;28;01mfor\u001b[39;00m P \u001b[38;5;129;01min\u001b[39;00m projectors]\n\u001b[0;32m   1166\u001b[0m \u001b[38;5;66;03m# mixed states\u001b[39;00m\n\u001b[0;32m   1167\u001b[0m \u001b[38;5;28;01melse\u001b[39;00m:\n\u001b[0;32m   1168\u001b[0m     probabilities \u001b[38;5;241m=\u001b[39m [np\u001b[38;5;241m.\u001b[39mreal(np\u001b[38;5;241m.\u001b[39mtrace((P \u001b[38;5;241m@\u001b[39m state))) \u001b[38;5;28;01mfor\u001b[39;00m P \u001b[38;5;129;01min\u001b[39;00m projectors]\n",
      "\u001b[1;31mValueError\u001b[0m: matmul: Input operand 1 has a mismatch in its core dimension 0, with gufunc signature (n?,k),(k,m?)->(n?,m?) (size 16 is different from 4)"
     ]
    }
   ],
   "source": [
    "# input space\n",
    "bits = 4\n",
    "\n",
    "# prepare state\n",
    "state = np.zeros((2**bits,))\n",
    "state[0] = 1\n",
    "\n",
    "# hadamard gates\n",
    "hadamard_instruction_list = [\"H\",[]]\n",
    "bit = 1\n",
    "while bit <= bits:\n",
    "    hadamard_instruction_list[1].append(bit)\n",
    "    bit += 1\n",
    "instructions = go.create_instruction_list([hadamard_instruction_list])\n",
    "state = reduce(go.apply_instruction, instructions, state)\n",
    "\n",
    "# oracle\n",
    "state = state * (-1)**black_box(indToState(bits, 0))\n",
    "\n",
    "# hadamard round 2\n",
    "state = reduce(go.apply_instruction, instructions, state)\n",
    "\n",
    "# measurement\n",
    "measurements = go.measure\n",
    "go.measure_computational(state,2,1000, False)\n",
    "print(measurements)\n",
    "\n",
    "print(state)\n",
    "\n",
    "print(indToState(bits, 0))"
   ]
  },
  {
   "cell_type": "markdown",
   "metadata": {},
   "source": [
    "4 = balanced"
   ]
  }
 ],
 "metadata": {
  "kernelspec": {
   "display_name": "base",
   "language": "python",
   "name": "python3"
  },
  "language_info": {
   "codemirror_mode": {
    "name": "ipython",
    "version": 3
   },
   "file_extension": ".py",
   "mimetype": "text/x-python",
   "name": "python",
   "nbconvert_exporter": "python",
   "pygments_lexer": "ipython3",
   "version": "3.12.7"
  }
 },
 "nbformat": 4,
 "nbformat_minor": 4
}
